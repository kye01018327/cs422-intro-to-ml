{
 "cells": [
  {
   "cell_type": "code",
   "execution_count": null,
   "id": "d50a1908",
   "metadata": {},
   "outputs": [],
   "source": [
    "import sys\n",
    "sys.path.append('..')"
   ]
  },
  {
   "cell_type": "code",
   "execution_count": null,
   "id": "7b14b2e0",
   "metadata": {},
   "outputs": [],
   "source": [
    "import numpy as np\n",
    "from pprint import pprint\n",
    "from scipy.spatial import distance\n",
    "from scripts.utils import load_data"
   ]
  },
  {
   "cell_type": "code",
   "execution_count": null,
   "id": "b9aabece",
   "metadata": {},
   "outputs": [],
   "source": [
    "X, Y = load_data('../data/data_4.txt')\n",
    "print(f'{X} dataset')\n",
    "print(f'{Y} labels')"
   ]
  },
  {
   "cell_type": "code",
   "execution_count": null,
   "id": "b9572e5b",
   "metadata": {},
   "outputs": [],
   "source": [
    "def calculate_sorted_distances(X, unknown_point):\n",
    "    distances = [distance.euclidean(x, unknown_point) for x in X]\n",
    "    sorted_idx = np.argsort(distances)\n",
    "    if np.isclose(distances[0], 0): # Exclude same point\n",
    "        sorted_idx = sorted_idx[1:]\n",
    "    return sorted_idx, distances\n",
    "\n",
    "def calculate_nearest_neighbors(X, Y, unknown_point, K):\n",
    "    sorted_idx, distances = calculate_sorted_distances(X, unknown_point)\n",
    "    nearest_neighbors = [Y[idx] for idx in sorted_idx[:K]]\n",
    "    return nearest_neighbors\n",
    "\n",
    "def KNN_predict(X, Y, unknown_point, K):\n",
    "    nearest_neighbors = calculate_nearest_neighbors(X, Y, unknown_point, K)\n",
    "    classes, counts = np.unique(nearest_neighbors, return_counts=True)\n",
    "    max_count = np.max(counts)\n",
    "    classes_with_max_count = classes[counts == max_count]\n",
    "    if len(classes_with_max_count) == 1:\n",
    "        return classes_with_max_count[0]\n",
    "    else: # Select closest neighbor in tiebreaker event\n",
    "        return nearest_neighbors[0]\n",
    "\n",
    "\n",
    "def KNN_test(X_train: np.ndarray, Y_train: np.ndarray, X_test: np.ndarray, Y_test: np.ndarray, K: int):\n",
    "    Y_predictions = []\n",
    "    # Compile predictions for each point\n",
    "    for unknown_point in X_test:\n",
    "        prediction = KNN_predict(X_train, Y_train, unknown_point, K)\n",
    "        Y_predictions.append(prediction)\n",
    "\n",
    "    # Compare predictions (Y_predictions) to expected labels (Y_test)\n",
    "    intersection = Y_predictions == Y_test\n",
    "    accuracy = sum(intersection) / len(Y_test)\n",
    "    return accuracy\n"
   ]
  },
  {
   "cell_type": "code",
   "execution_count": null,
   "id": "84dec8ef",
   "metadata": {},
   "outputs": [],
   "source": [
    "# # Test\n",
    "\n",
    "# for i in range(1,13,2):\n",
    "#     print(KNN_test(X,Y,X,Y,i))"
   ]
  }
 ],
 "metadata": {
  "kernelspec": {
   "display_name": ".venv-project1",
   "language": "python",
   "name": "python3"
  },
  "language_info": {
   "codemirror_mode": {
    "name": "ipython",
    "version": 3
   },
   "file_extension": ".py",
   "mimetype": "text/x-python",
   "name": "python",
   "nbconvert_exporter": "python",
   "pygments_lexer": "ipython3",
   "version": "3.12.3"
  }
 },
 "nbformat": 4,
 "nbformat_minor": 5
}
