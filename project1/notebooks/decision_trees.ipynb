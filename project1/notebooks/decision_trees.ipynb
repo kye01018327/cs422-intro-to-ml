{
 "cells": [
  {
   "cell_type": "code",
   "execution_count": 24,
   "id": "c77b8083",
   "metadata": {},
   "outputs": [],
   "source": [
    "import sys\n",
    "sys.path.append('..')\n"
   ]
  },
  {
   "cell_type": "code",
   "execution_count": 25,
   "id": "9c71e167",
   "metadata": {},
   "outputs": [],
   "source": [
    "import numpy as np\n",
    "from math import log2\n",
    "from scripts.utils import load_data"
   ]
  },
  {
   "cell_type": "code",
   "execution_count": 26,
   "id": "3c891ccd",
   "metadata": {},
   "outputs": [
    {
     "name": "stdout",
     "output_type": "stream",
     "text": [
      "(array([[0., 1., 0., 1.],\n",
      "       [1., 1., 1., 1.],\n",
      "       [0., 0., 0., 1.]]), array([1, 1, 0]))\n",
      "(array([[0., 1., 0., 1.],\n",
      "       [1., 1., 1., 1.],\n",
      "       [0., 0., 0., 1.],\n",
      "       [0., 1., 0., 0.]]), array([1, 1, 0, 0]))\n",
      "<class 'tuple'>\n"
     ]
    }
   ],
   "source": [
    "# Import binary data\n",
    "data_1 = load_data('../data/data_1.txt')\n",
    "data_2 = load_data('../data/data_2.txt')\n",
    "print(data_1)\n",
    "print(data_2)\n",
    "print(type(data_1))"
   ]
  },
  {
   "cell_type": "code",
   "execution_count": 27,
   "id": "8ae2f834",
   "metadata": {},
   "outputs": [
    {
     "name": "stdout",
     "output_type": "stream",
     "text": [
      "[1 1 0]\n",
      "0.9182958340544896\n"
     ]
    }
   ],
   "source": [
    "def calculate_entropy(Y):\n",
    "    classes, counts = np.unique(Y, return_counts=True)\n",
    "    p_C = counts / counts.sum()\n",
    "    calculate_entropy = np.sum([-p_c * log2(p_c) for p_c in p_C])\n",
    "    return calculate_entropy\n",
    "\n",
    "print(data_1[1])\n",
    "print(calculate_entropy(data_1[1]))\n"
   ]
  },
  {
   "cell_type": "code",
   "execution_count": 28,
   "id": "18da4bad",
   "metadata": {},
   "outputs": [
    {
     "name": "stdout",
     "output_type": "stream",
     "text": [
      "0.2516291673878229\n"
     ]
    }
   ],
   "source": [
    "def calculate_information_gain(feature, labels):\n",
    "    H_labels = calculate_entropy(labels)\n",
    "    classes, counts = np.unique(feature, return_counts=True)\n",
    "\n",
    "    H_feature = 0\n",
    "    for cls, count in zip(classes, counts):\n",
    "        cls_labels = labels[feature == cls]\n",
    "        p_t = count / len(labels)\n",
    "        H_t = calculate_entropy(cls_labels)\n",
    "        H_feature += p_t * H_t\n",
    "\n",
    "    ig = H_labels - H_feature\n",
    "    return ig\n",
    "\n",
    "print(calculate_information_gain(data_1[0].T[0], data_1[1]))"
   ]
  },
  {
   "cell_type": "code",
   "execution_count": null,
   "id": "edcfd8f9",
   "metadata": {},
   "outputs": [
    {
     "name": "stdout",
     "output_type": "stream",
     "text": [
      "[[0. 1. 0. 1.]\n",
      " [1. 1. 1. 1.]\n",
      " [0. 0. 0. 1.]]\n",
      "[1 1 0]\n",
      "0.9182958340544896\n",
      "0\n",
      "0.2516291673878229\n",
      "1\n",
      "0.9182958340544896\n",
      "2\n",
      "0.2516291673878229\n",
      "3\n",
      "0.0\n"
     ]
    }
   ],
   "source": [
    "def DT_train_binary(X: np.ndarray, Y):\n",
    "    # Calculate the Entropy (H) for the entire training set\n",
    "    entropy = calculate_entropy(Y)\n",
    "    print(entropy)\n",
    "\n",
    "    igs = []\n",
    "    # Split training data using each feature\n",
    "    for idx, col in enumerate(X.T):\n",
    "        \n",
    "        # Calculate Information Gain for each split\n",
    "\n",
    "        igs.append(calculate_information_gain(col, Y))\n",
    "        print(idx)\n",
    "        print(calculate_information_gain(col, Y))\n",
    "        pass\n",
    "        \n",
    "\n",
    "    # Choose to split on the feature that gives the best IG\n",
    "    \n",
    "\n",
    "    pass\n",
    "\n",
    "temp = data_1\n",
    "print(temp[0])\n",
    "print(temp[1])\n",
    "DT_train_binary(temp[0], temp[1])"
   ]
  }
 ],
 "metadata": {
  "kernelspec": {
   "display_name": ".venv-project1",
   "language": "python",
   "name": "python3"
  },
  "language_info": {
   "codemirror_mode": {
    "name": "ipython",
    "version": 3
   },
   "file_extension": ".py",
   "mimetype": "text/x-python",
   "name": "python",
   "nbconvert_exporter": "python",
   "pygments_lexer": "ipython3",
   "version": "3.12.3"
  }
 },
 "nbformat": 4,
 "nbformat_minor": 5
}
