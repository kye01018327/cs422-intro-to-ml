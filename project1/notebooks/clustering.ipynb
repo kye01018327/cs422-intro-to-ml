{
 "cells": [
  {
   "cell_type": "code",
   "execution_count": null,
   "id": "39caab98",
   "metadata": {},
   "outputs": [],
   "source": [
    "import sys\n",
    "sys.path.append('..')\n",
    "from scripts.utils import load_data\n",
    "from pprint import pprint\n",
    "\n",
    "X5, Y5 = load_data('../data/data_5.txt')\n",
    "X6, Y6 = load_data('../data/data_6.txt')"
   ]
  },
  {
   "cell_type": "code",
   "execution_count": null,
   "id": "f67fc1a7",
   "metadata": {},
   "outputs": [],
   "source": [
    "import numpy as np\n",
    "from scipy.spatial import distance"
   ]
  },
  {
   "cell_type": "code",
   "execution_count": null,
   "id": "d991d58d",
   "metadata": {},
   "outputs": [],
   "source": []
  }
 ],
 "metadata": {
  "language_info": {
   "name": "python"
  }
 },
 "nbformat": 4,
 "nbformat_minor": 5
}
