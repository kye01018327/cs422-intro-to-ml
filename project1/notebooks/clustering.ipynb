{
 "cells": [
  {
   "cell_type": "code",
   "execution_count": 529,
   "id": "39caab98",
   "metadata": {},
   "outputs": [
    {
     "name": "stdout",
     "output_type": "stream",
     "text": [
      "[[ 0.]\n",
      " [ 1.]\n",
      " [ 2.]\n",
      " [ 7.]\n",
      " [ 8.]\n",
      " [ 9.]\n",
      " [12.]\n",
      " [14.]\n",
      " [15.]]\n",
      "\n",
      "[]\n",
      "\n",
      "[[ 1.  0.]\n",
      " [ 7.  4.]\n",
      " [ 9.  6.]\n",
      " [ 2.  1.]\n",
      " [ 4.  8.]\n",
      " [ 0.  3.]\n",
      " [13.  5.]\n",
      " [ 6.  8.]\n",
      " [ 7.  3.]\n",
      " [ 3.  6.]\n",
      " [ 2.  1.]\n",
      " [ 8.  3.]\n",
      " [10.  2.]\n",
      " [ 3.  5.]\n",
      " [ 5.  1.]\n",
      " [ 1.  9.]\n",
      " [10.  3.]\n",
      " [ 4.  1.]\n",
      " [ 6.  6.]\n",
      " [ 2.  2.]]\n",
      "\n",
      "[]\n"
     ]
    }
   ],
   "source": [
    "import sys\n",
    "sys.path.append('..')\n",
    "from scripts.utils import load_data\n",
    "from pprint import pprint\n",
    "\n",
    "X5, Y5 = load_data('../data/data_5.txt')\n",
    "X6, Y6 = load_data('../data/data_6.txt')\n",
    "\n",
    "print(X5,Y5,X6,Y6,sep='\\n\\n')"
   ]
  },
  {
   "cell_type": "code",
   "execution_count": 530,
   "id": "f67fc1a7",
   "metadata": {},
   "outputs": [],
   "source": [
    "import numpy as np\n",
    "from scipy.spatial import distance\n",
    "import random"
   ]
  },
  {
   "cell_type": "code",
   "execution_count": 531,
   "id": "d991d58d",
   "metadata": {},
   "outputs": [],
   "source": [
    "def randomize(X, K):\n",
    "    # Fisher-Yates shuffle\n",
    "    X_indices = np.arange(len(X))\n",
    "    for i in range(len(X_indices) - 1, 0, -1):\n",
    "        j = random.randint(0, i) \n",
    "        X_indices[i], X_indices[j] = X_indices[j], X_indices[i]\n",
    "    return X_indices[:K]\n",
    "\n",
    "def recalculate_clusters(X, mu):\n",
    "    clusters = [[] for _ in mu]\n",
    "\n",
    "    for point in X:\n",
    "        # Get distance between point and each cluster\n",
    "        distances = []\n",
    "        for cluster in mu:\n",
    "            distances.append(distance.euclidean(point, cluster))\n",
    "        # Select closest cluster\n",
    "\n",
    "        closest_cluster_idx = np.argmin(distances) # Potential flaw for same distances\n",
    "        clusters[closest_cluster_idx].append(point)\n",
    "\n",
    "    for idx, cluster in enumerate(clusters):\n",
    "        cluster = np.array(cluster)\n",
    "\n",
    "    new_mu = []\n",
    "    for idx, cluster in enumerate(clusters):\n",
    "        if cluster:\n",
    "            new_mu.append(np.mean(clusters[idx], axis=0))\n",
    "        else:\n",
    "            new_mu.append(mu[idx])\n",
    "\n",
    "    new_mu = np.array(new_mu)\n",
    "\n",
    "    return new_mu\n",
    "\n",
    "def K_Means(X: np.ndarray, K, mu: np.ndarray):\n",
    "    mu = list(mu)\n",
    "    # Randomize starting points for K amount of Clusters\n",
    "    if not mu:\n",
    "        X_size = len(X)\n",
    "        random_starting_points = randomize(X, K)\n",
    "        mu = X[random_starting_points]\n",
    "\n",
    "    new_mu = mu\n",
    "    converged = False\n",
    "    while not converged:\n",
    "        mu = new_mu\n",
    "        new_mu = recalculate_clusters(X, mu)\n",
    "        converged = np.allclose(new_mu, mu)\n",
    "\n",
    "    return mu\n",
    "    \n"
   ]
  },
  {
   "cell_type": "code",
   "execution_count": 532,
   "id": "ff5e1a6f",
   "metadata": {},
   "outputs": [
    {
     "name": "stdout",
     "output_type": "stream",
     "text": [
      "[[2.45454545 3.36363636]\n",
      " [8.44444444 4.44444444]]\n"
     ]
    }
   ],
   "source": [
    "# print(X5)\n",
    "# randomize(X5)\n",
    "print(K_Means(X6, 2, []))"
   ]
  }
 ],
 "metadata": {
  "kernelspec": {
   "display_name": ".venv-project1",
   "language": "python",
   "name": "python3"
  },
  "language_info": {
   "codemirror_mode": {
    "name": "ipython",
    "version": 3
   },
   "file_extension": ".py",
   "mimetype": "text/x-python",
   "name": "python",
   "nbconvert_exporter": "python",
   "pygments_lexer": "ipython3",
   "version": "3.12.3"
  }
 },
 "nbformat": 4,
 "nbformat_minor": 5
}
